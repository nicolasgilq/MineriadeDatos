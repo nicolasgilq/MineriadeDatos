{
 "cells": [
  {
   "cell_type": "markdown",
   "metadata": {},
   "source": [
    "# Exercise 15\n",
    "\n",
    "# Fraud Detection"
   ]
  },
  {
   "cell_type": "markdown",
   "metadata": {},
   "source": [
    "## Introduction\n",
    "\n",
    "- Fraud Detection Dataset from Microsoft Azure: [data](http://gallery.cortanaintelligence.com/Experiment/8e9fe4e03b8b4c65b9ca947c72b8e463)\n",
    "\n",
    "Fraud detection is one of the earliest industrial applications of data mining and machine learning. Fraud detection is typically handled as a binary classification problem, but the class population is unbalanced because instances of fraud are usually very rare compared to the overall volume of transactions. Moreover, when fraudulent transactions are discovered, the business typically takes measures to block the accounts from transacting to prevent further losses. "
   ]
  },
  {
   "cell_type": "code",
   "execution_count": 1,
   "metadata": {},
   "outputs": [],
   "source": [
    "%matplotlib inline\n",
    "import pandas as pd\n",
    "import numpy as np\n",
    "from sklearn.model_selection import cross_val_score\n",
    "from sklearn.linear_model import LogisticRegression\n",
    "from sklearn.tree import DecisionTreeClassifier\n",
    "from sklearn import metrics"
   ]
  },
  {
   "cell_type": "code",
   "execution_count": 2,
   "metadata": {},
   "outputs": [
    {
     "data": {
      "text/html": [
       "<div>\n",
       "<style scoped>\n",
       "    .dataframe tbody tr th:only-of-type {\n",
       "        vertical-align: middle;\n",
       "    }\n",
       "\n",
       "    .dataframe tbody tr th {\n",
       "        vertical-align: top;\n",
       "    }\n",
       "\n",
       "    .dataframe thead th {\n",
       "        text-align: right;\n",
       "    }\n",
       "</style>\n",
       "<table border=\"1\" class=\"dataframe\">\n",
       "  <thead>\n",
       "    <tr style=\"text-align: right;\">\n",
       "      <th></th>\n",
       "      <th>accountAge</th>\n",
       "      <th>digitalItemCount</th>\n",
       "      <th>sumPurchaseCount1Day</th>\n",
       "      <th>sumPurchaseAmount1Day</th>\n",
       "      <th>sumPurchaseAmount30Day</th>\n",
       "      <th>paymentBillingPostalCode - LogOddsForClass_0</th>\n",
       "      <th>accountPostalCode - LogOddsForClass_0</th>\n",
       "      <th>paymentBillingState - LogOddsForClass_0</th>\n",
       "      <th>accountState - LogOddsForClass_0</th>\n",
       "      <th>paymentInstrumentAgeInAccount</th>\n",
       "      <th>ipState - LogOddsForClass_0</th>\n",
       "      <th>transactionAmount</th>\n",
       "      <th>transactionAmountUSD</th>\n",
       "      <th>ipPostalCode - LogOddsForClass_0</th>\n",
       "      <th>localHour - LogOddsForClass_0</th>\n",
       "      <th>Label</th>\n",
       "    </tr>\n",
       "  </thead>\n",
       "  <tbody>\n",
       "    <tr>\n",
       "      <th>0</th>\n",
       "      <td>2000</td>\n",
       "      <td>0</td>\n",
       "      <td>0</td>\n",
       "      <td>0.00</td>\n",
       "      <td>720.25</td>\n",
       "      <td>5.064533</td>\n",
       "      <td>0.421214</td>\n",
       "      <td>1.312186</td>\n",
       "      <td>0.566395</td>\n",
       "      <td>3279.574306</td>\n",
       "      <td>1.218157</td>\n",
       "      <td>599.00</td>\n",
       "      <td>626.164650</td>\n",
       "      <td>1.259543</td>\n",
       "      <td>4.745402</td>\n",
       "      <td>0</td>\n",
       "    </tr>\n",
       "    <tr>\n",
       "      <th>1</th>\n",
       "      <td>62</td>\n",
       "      <td>1</td>\n",
       "      <td>1</td>\n",
       "      <td>1185.44</td>\n",
       "      <td>2530.37</td>\n",
       "      <td>0.538996</td>\n",
       "      <td>0.481838</td>\n",
       "      <td>4.401370</td>\n",
       "      <td>4.500157</td>\n",
       "      <td>61.970139</td>\n",
       "      <td>4.035601</td>\n",
       "      <td>1185.44</td>\n",
       "      <td>1185.440000</td>\n",
       "      <td>3.981118</td>\n",
       "      <td>4.921349</td>\n",
       "      <td>0</td>\n",
       "    </tr>\n",
       "    <tr>\n",
       "      <th>2</th>\n",
       "      <td>2000</td>\n",
       "      <td>0</td>\n",
       "      <td>0</td>\n",
       "      <td>0.00</td>\n",
       "      <td>0.00</td>\n",
       "      <td>5.064533</td>\n",
       "      <td>5.096396</td>\n",
       "      <td>3.056357</td>\n",
       "      <td>3.155226</td>\n",
       "      <td>0.000000</td>\n",
       "      <td>3.314186</td>\n",
       "      <td>32.09</td>\n",
       "      <td>32.090000</td>\n",
       "      <td>5.008490</td>\n",
       "      <td>4.742303</td>\n",
       "      <td>0</td>\n",
       "    </tr>\n",
       "    <tr>\n",
       "      <th>3</th>\n",
       "      <td>1</td>\n",
       "      <td>1</td>\n",
       "      <td>0</td>\n",
       "      <td>0.00</td>\n",
       "      <td>0.00</td>\n",
       "      <td>5.064533</td>\n",
       "      <td>5.096396</td>\n",
       "      <td>3.331154</td>\n",
       "      <td>3.331239</td>\n",
       "      <td>0.000000</td>\n",
       "      <td>3.529398</td>\n",
       "      <td>133.28</td>\n",
       "      <td>132.729554</td>\n",
       "      <td>1.324925</td>\n",
       "      <td>4.745402</td>\n",
       "      <td>0</td>\n",
       "    </tr>\n",
       "    <tr>\n",
       "      <th>4</th>\n",
       "      <td>1</td>\n",
       "      <td>1</td>\n",
       "      <td>0</td>\n",
       "      <td>0.00</td>\n",
       "      <td>132.73</td>\n",
       "      <td>5.412885</td>\n",
       "      <td>0.342945</td>\n",
       "      <td>5.563677</td>\n",
       "      <td>4.086965</td>\n",
       "      <td>0.001389</td>\n",
       "      <td>3.529398</td>\n",
       "      <td>543.66</td>\n",
       "      <td>543.660000</td>\n",
       "      <td>2.693451</td>\n",
       "      <td>4.876771</td>\n",
       "      <td>0</td>\n",
       "    </tr>\n",
       "  </tbody>\n",
       "</table>\n",
       "</div>"
      ],
      "text/plain": [
       "   accountAge  digitalItemCount  sumPurchaseCount1Day  sumPurchaseAmount1Day  \\\n",
       "0        2000                 0                     0                   0.00   \n",
       "1          62                 1                     1                1185.44   \n",
       "2        2000                 0                     0                   0.00   \n",
       "3           1                 1                     0                   0.00   \n",
       "4           1                 1                     0                   0.00   \n",
       "\n",
       "   sumPurchaseAmount30Day  paymentBillingPostalCode - LogOddsForClass_0  \\\n",
       "0                  720.25                                      5.064533   \n",
       "1                 2530.37                                      0.538996   \n",
       "2                    0.00                                      5.064533   \n",
       "3                    0.00                                      5.064533   \n",
       "4                  132.73                                      5.412885   \n",
       "\n",
       "   accountPostalCode - LogOddsForClass_0  \\\n",
       "0                               0.421214   \n",
       "1                               0.481838   \n",
       "2                               5.096396   \n",
       "3                               5.096396   \n",
       "4                               0.342945   \n",
       "\n",
       "   paymentBillingState - LogOddsForClass_0  accountState - LogOddsForClass_0  \\\n",
       "0                                 1.312186                          0.566395   \n",
       "1                                 4.401370                          4.500157   \n",
       "2                                 3.056357                          3.155226   \n",
       "3                                 3.331154                          3.331239   \n",
       "4                                 5.563677                          4.086965   \n",
       "\n",
       "   paymentInstrumentAgeInAccount  ipState - LogOddsForClass_0  \\\n",
       "0                    3279.574306                     1.218157   \n",
       "1                      61.970139                     4.035601   \n",
       "2                       0.000000                     3.314186   \n",
       "3                       0.000000                     3.529398   \n",
       "4                       0.001389                     3.529398   \n",
       "\n",
       "   transactionAmount  transactionAmountUSD  ipPostalCode - LogOddsForClass_0  \\\n",
       "0             599.00            626.164650                          1.259543   \n",
       "1            1185.44           1185.440000                          3.981118   \n",
       "2              32.09             32.090000                          5.008490   \n",
       "3             133.28            132.729554                          1.324925   \n",
       "4             543.66            543.660000                          2.693451   \n",
       "\n",
       "   localHour - LogOddsForClass_0  Label  \n",
       "0                       4.745402      0  \n",
       "1                       4.921349      0  \n",
       "2                       4.742303      0  \n",
       "3                       4.745402      0  \n",
       "4                       4.876771      0  "
      ]
     },
     "execution_count": 2,
     "metadata": {},
     "output_type": "execute_result"
    }
   ],
   "source": [
    "import pandas as pd\n",
    "url = 'https://raw.githubusercontent.com/albahnsen/PracticalMachineLearningClass/master/datasets/15_fraud_detection.csv.zip'\n",
    "df = pd.read_csv(url, index_col=0)\n",
    "df.head()"
   ]
  },
  {
   "cell_type": "code",
   "execution_count": 3,
   "metadata": {},
   "outputs": [
    {
     "data": {
      "text/html": [
       "<div>\n",
       "<style scoped>\n",
       "    .dataframe tbody tr th:only-of-type {\n",
       "        vertical-align: middle;\n",
       "    }\n",
       "\n",
       "    .dataframe tbody tr th {\n",
       "        vertical-align: top;\n",
       "    }\n",
       "\n",
       "    .dataframe thead th {\n",
       "        text-align: right;\n",
       "    }\n",
       "</style>\n",
       "<table border=\"1\" class=\"dataframe\">\n",
       "  <thead>\n",
       "    <tr style=\"text-align: right;\">\n",
       "      <th></th>\n",
       "      <th>accountAge</th>\n",
       "      <th>digitalItemCount</th>\n",
       "      <th>sumPurchaseCount1Day</th>\n",
       "      <th>sumPurchaseAmount1Day</th>\n",
       "      <th>sumPurchaseAmount30Day</th>\n",
       "      <th>paymentBillingPostalCode - LogOddsForClass_0</th>\n",
       "      <th>accountPostalCode - LogOddsForClass_0</th>\n",
       "      <th>paymentBillingState - LogOddsForClass_0</th>\n",
       "      <th>accountState - LogOddsForClass_0</th>\n",
       "      <th>paymentInstrumentAgeInAccount</th>\n",
       "      <th>ipState - LogOddsForClass_0</th>\n",
       "      <th>transactionAmount</th>\n",
       "      <th>transactionAmountUSD</th>\n",
       "      <th>ipPostalCode - LogOddsForClass_0</th>\n",
       "      <th>localHour - LogOddsForClass_0</th>\n",
       "      <th>Label</th>\n",
       "    </tr>\n",
       "  </thead>\n",
       "  <tbody>\n",
       "    <tr>\n",
       "      <th>0</th>\n",
       "      <td>2000</td>\n",
       "      <td>0</td>\n",
       "      <td>0</td>\n",
       "      <td>0.00</td>\n",
       "      <td>720.25</td>\n",
       "      <td>5.064533</td>\n",
       "      <td>0.421214</td>\n",
       "      <td>1.312186</td>\n",
       "      <td>0.566395</td>\n",
       "      <td>3279.574306</td>\n",
       "      <td>1.218157</td>\n",
       "      <td>599.00</td>\n",
       "      <td>626.164650</td>\n",
       "      <td>1.259543</td>\n",
       "      <td>4.745402</td>\n",
       "      <td>0</td>\n",
       "    </tr>\n",
       "    <tr>\n",
       "      <th>1</th>\n",
       "      <td>62</td>\n",
       "      <td>1</td>\n",
       "      <td>1</td>\n",
       "      <td>1185.44</td>\n",
       "      <td>2530.37</td>\n",
       "      <td>0.538996</td>\n",
       "      <td>0.481838</td>\n",
       "      <td>4.401370</td>\n",
       "      <td>4.500157</td>\n",
       "      <td>61.970139</td>\n",
       "      <td>4.035601</td>\n",
       "      <td>1185.44</td>\n",
       "      <td>1185.440000</td>\n",
       "      <td>3.981118</td>\n",
       "      <td>4.921349</td>\n",
       "      <td>0</td>\n",
       "    </tr>\n",
       "    <tr>\n",
       "      <th>2</th>\n",
       "      <td>2000</td>\n",
       "      <td>0</td>\n",
       "      <td>0</td>\n",
       "      <td>0.00</td>\n",
       "      <td>0.00</td>\n",
       "      <td>5.064533</td>\n",
       "      <td>5.096396</td>\n",
       "      <td>3.056357</td>\n",
       "      <td>3.155226</td>\n",
       "      <td>0.000000</td>\n",
       "      <td>3.314186</td>\n",
       "      <td>32.09</td>\n",
       "      <td>32.090000</td>\n",
       "      <td>5.008490</td>\n",
       "      <td>4.742303</td>\n",
       "      <td>0</td>\n",
       "    </tr>\n",
       "    <tr>\n",
       "      <th>3</th>\n",
       "      <td>1</td>\n",
       "      <td>1</td>\n",
       "      <td>0</td>\n",
       "      <td>0.00</td>\n",
       "      <td>0.00</td>\n",
       "      <td>5.064533</td>\n",
       "      <td>5.096396</td>\n",
       "      <td>3.331154</td>\n",
       "      <td>3.331239</td>\n",
       "      <td>0.000000</td>\n",
       "      <td>3.529398</td>\n",
       "      <td>133.28</td>\n",
       "      <td>132.729554</td>\n",
       "      <td>1.324925</td>\n",
       "      <td>4.745402</td>\n",
       "      <td>0</td>\n",
       "    </tr>\n",
       "    <tr>\n",
       "      <th>4</th>\n",
       "      <td>1</td>\n",
       "      <td>1</td>\n",
       "      <td>0</td>\n",
       "      <td>0.00</td>\n",
       "      <td>132.73</td>\n",
       "      <td>5.412885</td>\n",
       "      <td>0.342945</td>\n",
       "      <td>5.563677</td>\n",
       "      <td>4.086965</td>\n",
       "      <td>0.001389</td>\n",
       "      <td>3.529398</td>\n",
       "      <td>543.66</td>\n",
       "      <td>543.660000</td>\n",
       "      <td>2.693451</td>\n",
       "      <td>4.876771</td>\n",
       "      <td>0</td>\n",
       "    </tr>\n",
       "  </tbody>\n",
       "</table>\n",
       "</div>"
      ],
      "text/plain": [
       "   accountAge  digitalItemCount  sumPurchaseCount1Day  sumPurchaseAmount1Day  \\\n",
       "0        2000                 0                     0                   0.00   \n",
       "1          62                 1                     1                1185.44   \n",
       "2        2000                 0                     0                   0.00   \n",
       "3           1                 1                     0                   0.00   \n",
       "4           1                 1                     0                   0.00   \n",
       "\n",
       "   sumPurchaseAmount30Day  paymentBillingPostalCode - LogOddsForClass_0  \\\n",
       "0                  720.25                                      5.064533   \n",
       "1                 2530.37                                      0.538996   \n",
       "2                    0.00                                      5.064533   \n",
       "3                    0.00                                      5.064533   \n",
       "4                  132.73                                      5.412885   \n",
       "\n",
       "   accountPostalCode - LogOddsForClass_0  \\\n",
       "0                               0.421214   \n",
       "1                               0.481838   \n",
       "2                               5.096396   \n",
       "3                               5.096396   \n",
       "4                               0.342945   \n",
       "\n",
       "   paymentBillingState - LogOddsForClass_0  accountState - LogOddsForClass_0  \\\n",
       "0                                 1.312186                          0.566395   \n",
       "1                                 4.401370                          4.500157   \n",
       "2                                 3.056357                          3.155226   \n",
       "3                                 3.331154                          3.331239   \n",
       "4                                 5.563677                          4.086965   \n",
       "\n",
       "   paymentInstrumentAgeInAccount  ipState - LogOddsForClass_0  \\\n",
       "0                    3279.574306                     1.218157   \n",
       "1                      61.970139                     4.035601   \n",
       "2                       0.000000                     3.314186   \n",
       "3                       0.000000                     3.529398   \n",
       "4                       0.001389                     3.529398   \n",
       "\n",
       "   transactionAmount  transactionAmountUSD  ipPostalCode - LogOddsForClass_0  \\\n",
       "0             599.00            626.164650                          1.259543   \n",
       "1            1185.44           1185.440000                          3.981118   \n",
       "2              32.09             32.090000                          5.008490   \n",
       "3             133.28            132.729554                          1.324925   \n",
       "4             543.66            543.660000                          2.693451   \n",
       "\n",
       "   localHour - LogOddsForClass_0  Label  \n",
       "0                       4.745402      0  \n",
       "1                       4.921349      0  \n",
       "2                       4.742303      0  \n",
       "3                       4.745402      0  \n",
       "4                       4.876771      0  "
      ]
     },
     "execution_count": 3,
     "metadata": {},
     "output_type": "execute_result"
    }
   ],
   "source": [
    "df.head()"
   ]
  },
  {
   "cell_type": "code",
   "execution_count": 4,
   "metadata": {},
   "outputs": [
    {
     "data": {
      "text/plain": [
       "((138721, 16), 797, 0.0057453449730033666)"
      ]
     },
     "execution_count": 4,
     "metadata": {},
     "output_type": "execute_result"
    }
   ],
   "source": [
    "df.shape, df.Label.sum(), df.Label.mean()"
   ]
  },
  {
   "cell_type": "markdown",
   "metadata": {},
   "source": [
    "# Exercise 15.1\n",
    "\n",
    "Estimate a Logistic Regression and a Decision Tree\n",
    "\n",
    "Evaluate using the following metrics:\n",
    "* Accuracy\n",
    "* F1-Score\n",
    "* F_Beta-Score (Beta=10)\n",
    "\n",
    "Comment about the results"
   ]
  },
  {
   "cell_type": "code",
   "execution_count": 5,
   "metadata": {},
   "outputs": [],
   "source": [
    "y = df['Label']\n",
    "X = df.drop(['Label'], axis=1)\n",
    "\n",
    "from sklearn.model_selection import train_test_split\n",
    "X_train, X_test, y_train, y_test = train_test_split(X, y, test_size=0.33, random_state=42)\n"
   ]
  },
  {
   "cell_type": "code",
   "execution_count": 6,
   "metadata": {},
   "outputs": [],
   "source": [
    "from sklearn.linear_model import LogisticRegression\n",
    "from sklearn.metrics import accuracy_score, f1_score, fbeta_score\n",
    "from sklearn.metrics import confusion_matrix\n"
   ]
  },
  {
   "cell_type": "code",
   "execution_count": 7,
   "metadata": {},
   "outputs": [
    {
     "name": "stdout",
     "output_type": "stream",
     "text": [
      "\n",
      "Exercise 15.1_a\n",
      "\n",
      "Accuracy: \n",
      " 0.993949058499716\n",
      "f1_Score: \n",
      " 0.0\n",
      "f_beta_Score: \n",
      " 0.0\n",
      "Confusion Matrix: \n",
      " [[45501     2]\n",
      " [  275     0]]\n"
     ]
    },
    {
     "name": "stderr",
     "output_type": "stream",
     "text": [
      "C:\\Users\\MLNDGIL\\AppData\\Local\\Continuum\\anaconda3\\lib\\site-packages\\sklearn\\svm\\base.py:931: ConvergenceWarning: Liblinear failed to converge, increase the number of iterations.\n",
      "  \"the number of iterations.\", ConvergenceWarning)\n"
     ]
    }
   ],
   "source": [
    "# Logistic Regression\n",
    "logreg1 = LogisticRegression(solver='liblinear')  # C=1e9\n",
    "logreg1.fit(X_train, y_train)\n",
    "\n",
    "Y_1_a_predictions = logreg1.predict(X_test)\n",
    "print('\\nExercise 15.1_a\\n')\n",
    "print('Accuracy: \\n', accuracy_score(y_test, Y_1_a_predictions))\n",
    "print('f1_Score: \\n', f1_score(y_test, Y_1_a_predictions))\n",
    "print('f_beta_Score: \\n', fbeta_score(y_test, Y_1_a_predictions, beta=10))\n",
    "print('Confusion Matrix: \\n', confusion_matrix(y_test, Y_1_a_predictions))\n"
   ]
  },
  {
   "cell_type": "code",
   "execution_count": 8,
   "metadata": {},
   "outputs": [
    {
     "name": "stdout",
     "output_type": "stream",
     "text": [
      "\n",
      "Exercise 15.1_b\n",
      "\n",
      "Accuracy: \n",
      " 0.9886408318406221\n",
      "f1_Score: \n",
      " 0.12457912457912457\n",
      "f_beta_Score: \n",
      " 0.13433265034688524\n",
      "Confusion Matrix: \n",
      " [[45221   282]\n",
      " [  238    37]]\n"
     ]
    }
   ],
   "source": [
    "# Tree classifier\n",
    "from sklearn.tree import DecisionTreeClassifier\n",
    "treeclf1 = DecisionTreeClassifier(max_depth=None, random_state=1)\n",
    "treeclf1.fit(X_train, y_train)\n",
    "\n",
    "print('\\nExercise 15.1_b\\n')\n",
    "Y_1_b_predictions = treeclf1.predict(X_test)\n",
    "print('Accuracy: \\n', accuracy_score(y_test, Y_1_b_predictions))\n",
    "print('f1_Score: \\n', f1_score(y_test, Y_1_b_predictions))\n",
    "print('f_beta_Score: \\n', fbeta_score(y_test, Y_1_b_predictions, beta=10))\n",
    "print('Confusion Matrix: \\n', confusion_matrix(y_test, Y_1_b_predictions))\n",
    "\n"
   ]
  },
  {
   "cell_type": "markdown",
   "metadata": {},
   "source": [
    "# Exercise 15.2\n",
    "\n",
    "Under-sample the negative class using random-under-sampling\n",
    "\n",
    "Which is parameter for target_percentage did you choose?\n",
    "How the results change?\n",
    "\n",
    "**Only apply under-sampling to the training set, evaluate using the whole test set**"
   ]
  },
  {
   "cell_type": "code",
   "execution_count": 9,
   "metadata": {},
   "outputs": [],
   "source": [
    "def UnderSampling(X, y, target_percentage=0.5, seed=None):\n",
    "   # Assuming minority class is the positive\n",
    "    n_samples = y.shape[0]\n",
    "    n_samples_0 = (y == 0).sum()\n",
    "    n_samples_1 = (y == 1).sum()\n",
    "    \n",
    "    n_samples_0_new = n_samples_1 / target_percentage - n_samples_1\n",
    "    n_samples_0_new_per = n_samples_0_new / n_samples_0\n",
    "\n",
    "    filter_ = y == 0\n",
    "\n",
    "    np.random.seed(seed)\n",
    "    rand_1 = np.random.binomial(n=1, p=n_samples_0_new_per, size=n_samples)\n",
    "\n",
    "    filter_ = filter_ & rand_1\n",
    "    filter_ = filter_ | (y == 1)\n",
    "    filter_ = filter_.astype(bool)\n",
    "\n",
    "    return X[filter_], y[filter_]\n",
    "\n",
    "\n",
    "for target_percentage in [0.1, 0.2, 0.3, 0.4, 0.5]:\n",
    "    X_u, y_u = UnderSampling(X_train, y_train, target_percentage, 1)"
   ]
  },
  {
   "cell_type": "code",
   "execution_count": 10,
   "metadata": {},
   "outputs": [
    {
     "name": "stdout",
     "output_type": "stream",
     "text": [
      "\n",
      "Exercise 15.2_a, target_percentage= 0.5\n",
      "Accuracy: \n",
      " 0.572720520774171\n",
      "f1_Score: \n",
      " 0.020628880432605648\n",
      "f_beta_Score: \n",
      " 0.4408331037989703\n",
      "Confusion Matrix: \n",
      " [[26012 19491]\n",
      " [   69   206]]\n"
     ]
    }
   ],
   "source": [
    " # Logistic Regression\n",
    "logreg2 = LogisticRegression(solver='liblinear')  # C=1e9\n",
    "logreg2.fit(X_u, y_u)\n",
    "    \n",
    "Y_2_a_predictions = logreg2.predict(X_test)\n",
    "print('\\nExercise 15.2_a, target_percentage=', target_percentage)\n",
    "print('Accuracy: \\n', accuracy_score(y_test, Y_2_a_predictions))\n",
    "print('f1_Score: \\n', f1_score(y_test, Y_2_a_predictions))\n",
    "print('f_beta_Score: \\n', fbeta_score(y_test, Y_2_a_predictions, beta=10))\n",
    "print('Confusion Matrix: \\n', confusion_matrix(y_test, Y_2_a_predictions))\n",
    "\n",
    "   "
   ]
  },
  {
   "cell_type": "code",
   "execution_count": 11,
   "metadata": {},
   "outputs": [
    {
     "name": "stdout",
     "output_type": "stream",
     "text": [
      "\n",
      "Exercise 15.2_b, target_percentage= 0.5\n",
      "Accuracy: \n",
      " 0.6642928917820787\n",
      "f1_Score: \n",
      " 0.023261726198042454\n",
      "f_beta_Score: \n",
      " 0.43024744523848324\n",
      "Confusion Matrix: \n",
      " [[30227 15276]\n",
      " [   92   183]]\n"
     ]
    }
   ],
   "source": [
    "# Tree classifier\n",
    "treeclf2 = DecisionTreeClassifier(max_depth=None, random_state=1)\n",
    "treeclf2.fit(X_u, y_u)\n",
    "    \n",
    "print('\\nExercise 15.2_b, target_percentage=', target_percentage)\n",
    "Y_2_b_predictions = treeclf2.predict(X_test)\n",
    "print('Accuracy: \\n', accuracy_score(y_test, Y_2_b_predictions))\n",
    "print('f1_Score: \\n', f1_score(y_test, Y_2_b_predictions))\n",
    "print('f_beta_Score: \\n', fbeta_score(y_test, Y_2_b_predictions, beta=10))\n",
    "print('Confusion Matrix: \\n', confusion_matrix(y_test, Y_2_b_predictions))\n"
   ]
  },
  {
   "cell_type": "markdown",
   "metadata": {},
   "source": [
    "# Exercise 15.3\n",
    "\n",
    "Same analysis using random-over-sampling"
   ]
  },
  {
   "cell_type": "code",
   "execution_count": 12,
   "metadata": {},
   "outputs": [],
   "source": [
    "from imblearn.over_sampling import RandomOverSampler\n",
    "ros = RandomOverSampler(random_state=42)\n"
   ]
  },
  {
   "cell_type": "code",
   "execution_count": 13,
   "metadata": {},
   "outputs": [],
   "source": [
    "X_u, y_u = ros.fit_sample(X_train, y_train)"
   ]
  },
  {
   "cell_type": "code",
   "execution_count": 14,
   "metadata": {},
   "outputs": [
    {
     "name": "stdout",
     "output_type": "stream",
     "text": [
      "\n",
      "Exercise 15.3_a\n",
      "Accuracy: \n",
      " 0.601533487701516\n",
      "f1_Score: \n",
      " 0.020722606968379235\n",
      "f_beta_Score: \n",
      " 0.42512867486696326\n",
      "Confusion Matrix: \n",
      " [[27344 18159]\n",
      " [   82   193]]\n"
     ]
    }
   ],
   "source": [
    "# Logistic Regression\n",
    "logreg3 = LogisticRegression(solver='liblinear')  # C=1e9\n",
    "logreg3.fit(X_u, y_u)\n",
    "\n",
    "Y_3_a_predictions = logreg3.predict(X_test)\n",
    "print('\\nExercise 15.3_a')\n",
    "print('Accuracy: \\n', accuracy_score(y_test, Y_3_a_predictions))\n",
    "print('f1_Score: \\n', f1_score(y_test, Y_3_a_predictions))\n",
    "print('f_beta_Score: \\n', fbeta_score(y_test, Y_3_a_predictions, beta=10))\n",
    "print('Confusion Matrix: \\n', confusion_matrix(y_test, Y_3_a_predictions))\n"
   ]
  },
  {
   "cell_type": "code",
   "execution_count": 15,
   "metadata": {},
   "outputs": [
    {
     "name": "stdout",
     "output_type": "stream",
     "text": [
      "\n",
      "Exercise 15.3_b\n",
      "Accuracy: \n",
      " 0.9894709248984228\n",
      "f1_Score: \n",
      " 0.12681159420289853\n",
      "f_beta_Score: \n",
      " 0.12726356337977462\n",
      "Confusion Matrix: \n",
      " [[45261   242]\n",
      " [  240    35]]\n"
     ]
    }
   ],
   "source": [
    "# Tree classifier\n",
    "treeclf3 = DecisionTreeClassifier(max_depth=None, random_state=1)\n",
    "treeclf3.fit(X_u, y_u)\n",
    "\n",
    "print('\\nExercise 15.3_b')\n",
    "Y_3_b_predictions = treeclf3.predict(X_test)\n",
    "print('Accuracy: \\n', accuracy_score(y_test, Y_3_b_predictions))\n",
    "print('f1_Score: \\n', f1_score(y_test, Y_3_b_predictions))\n",
    "print('f_beta_Score: \\n', fbeta_score(y_test, Y_3_b_predictions, beta=10))\n",
    "print('Confusion Matrix: \\n', confusion_matrix(y_test, Y_3_b_predictions))\n"
   ]
  },
  {
   "cell_type": "markdown",
   "metadata": {},
   "source": [
    "# Exercise 15.4 (3 points)\n",
    "\n",
    "Evaluate the results using SMOTE\n",
    "\n",
    "Which parameters did you choose?"
   ]
  },
  {
   "cell_type": "code",
   "execution_count": 16,
   "metadata": {},
   "outputs": [
    {
     "name": "stdout",
     "output_type": "stream",
     "text": [
      "<class 'collections.Counter'>\n",
      "<class 'collections.Counter'>\n"
     ]
    }
   ],
   "source": [
    "from imblearn.over_sampling import SMOTE\n",
    "from collections import Counter\n",
    "\n",
    "for k in [5, 15]:\n",
    "    sm = SMOTE(random_state=42, k_neighbors=k)\n",
    "    X_u, y_u = sm.fit_sample(X_train, y_train)\n",
    "    print(Counter)\n"
   ]
  },
  {
   "cell_type": "code",
   "execution_count": 17,
   "metadata": {},
   "outputs": [
    {
     "name": "stdout",
     "output_type": "stream",
     "text": [
      "\n",
      "Exercise 15.4_a, k= 15\n",
      "Accuracy: \n",
      " 0.6043732797413605\n",
      "f1_Score: \n",
      " 0.021291542826263176\n",
      "f_beta_Score: \n",
      " 0.4350973102995845\n",
      "Confusion Matrix: \n",
      " [[27470 18033]\n",
      " [   78   197]]\n"
     ]
    }
   ],
   "source": [
    "# Logistic Regression\n",
    "logreg4 = LogisticRegression(solver='liblinear')  # C=1e9\n",
    "logreg4.fit(X_u, y_u)\n",
    "    \n",
    "Y_4_a_predictions = logreg4.predict(X_test)\n",
    "print('\\nExercise 15.4_a, k=', k)\n",
    "print('Accuracy: \\n', accuracy_score(y_test, Y_4_a_predictions))\n",
    "print('f1_Score: \\n', f1_score(y_test, Y_4_a_predictions))\n",
    "print('f_beta_Score: \\n', fbeta_score(y_test, Y_4_a_predictions, beta=10))\n",
    "print('Confusion Matrix: \\n', confusion_matrix(y_test, Y_4_a_predictions))\n"
   ]
  },
  {
   "cell_type": "code",
   "execution_count": 18,
   "metadata": {},
   "outputs": [
    {
     "name": "stdout",
     "output_type": "stream",
     "text": [
      "\n",
      "Exercise 15.4_b, k= 15\n",
      "Accuracy: \n",
      " 0.9807112586832103\n",
      "f1_Score: \n",
      " 0.0675818373812038\n",
      "f_beta_Score: \n",
      " 0.11472383927303706\n",
      "Confusion Matrix: \n",
      " [[44863   640]\n",
      " [  243    32]]\n"
     ]
    }
   ],
   "source": [
    "  # Tree classifier\n",
    "treeclf4 = DecisionTreeClassifier(max_depth=None, random_state=1)\n",
    "treeclf4.fit(X_u, y_u)\n",
    "    \n",
    "print('\\nExercise 15.4_b, k=', k)\n",
    "Y_4_b_predictions = treeclf4.predict(X_test)\n",
    "print('Accuracy: \\n', accuracy_score(y_test, Y_4_b_predictions))\n",
    "print('f1_Score: \\n', f1_score(y_test, Y_4_b_predictions))\n",
    "print('f_beta_Score: \\n', fbeta_score(y_test, Y_4_b_predictions, beta=10))\n",
    "print('Confusion Matrix: \\n', confusion_matrix(y_test, Y_4_b_predictions))\n"
   ]
  },
  {
   "cell_type": "markdown",
   "metadata": {},
   "source": [
    "# Exercise 15.5 (3 points)\n",
    "\n",
    "Evaluate the results using Adaptive Synthetic Sampling Approach for Imbalanced\n",
    "Learning (ADASYN)\n",
    "\n",
    "http://www.ele.uri.edu/faculty/he/PDFfiles/adasyn.pdf\n",
    "https://imbalanced-learn.readthedocs.io/en/stable/generated/imblearn.over_sampling.ADASYN.html#rf9172e970ca5-1"
   ]
  },
  {
   "cell_type": "code",
   "execution_count": 19,
   "metadata": {},
   "outputs": [
    {
     "name": "stdout",
     "output_type": "stream",
     "text": [
      "<class 'collections.Counter'>\n",
      "<class 'collections.Counter'>\n"
     ]
    }
   ],
   "source": [
    "from imblearn.over_sampling import ADASYN\n",
    "\n",
    "for k in [5, 15]:\n",
    "    ada = ADASYN(random_state=42, n_neighbors=k)\n",
    "    X_u, y_u = ada.fit_sample(X_train, y_train)\n",
    "    print(Counter)\n",
    "    \n",
    "   "
   ]
  },
  {
   "cell_type": "code",
   "execution_count": 20,
   "metadata": {},
   "outputs": [
    {
     "name": "stdout",
     "output_type": "stream",
     "text": [
      "\n",
      "Exercise 15.5_a, k= 15\n",
      "Accuracy: \n",
      " 0.5554196338852724\n",
      "f1_Score: \n",
      " 0.020408163265306124\n",
      "f_beta_Score: \n",
      " 0.446074040124164\n",
      "Confusion Matrix: \n",
      " [[25214 20289]\n",
      " [   63   212]]\n"
     ]
    }
   ],
   "source": [
    "  # Logistic Regression\n",
    "logreg5 = LogisticRegression(solver='liblinear')  # C=1e9\n",
    "logreg5.fit(X_u, y_u)\n",
    "    \n",
    "Y_5_a_predictions = logreg5.predict(X_test)\n",
    "print('\\nExercise 15.5_a, k=', k)\n",
    "print('Accuracy: \\n', accuracy_score(y_test, Y_5_a_predictions))\n",
    "print('f1_Score: \\n', f1_score(y_test, Y_5_a_predictions))\n",
    "print('f_beta_Score: \\n', fbeta_score(y_test, Y_5_a_predictions, beta=10))\n",
    "print('Confusion Matrix: \\n', confusion_matrix(y_test, Y_5_a_predictions))\n",
    "\n",
    "\n"
   ]
  },
  {
   "cell_type": "code",
   "execution_count": 22,
   "metadata": {},
   "outputs": [
    {
     "name": "stdout",
     "output_type": "stream",
     "text": [
      "\n",
      "Exercise 15.5_b, k= 15\n",
      "Accuracy: \n",
      " 0.9774127310061602\n",
      "f1_Score: \n",
      " 0.06678700361010831\n",
      "f_beta_Score: \n",
      " 0.131895669360816\n",
      "Confusion Matrix: \n",
      " [[44707   796]\n",
      " [  238    37]]\n"
     ]
    }
   ],
   "source": [
    " # Tree classifier\n",
    "treeclf5 = DecisionTreeClassifier(max_depth=None, random_state=1)\n",
    "treeclf5.fit(X_u, y_u)\n",
    "    \n",
    "\n",
    "print('\\nExercise 15.5_b, k=', k)\n",
    "Y_5_b_predictions = treeclf5.predict(X_test)\n",
    "print('Accuracy: \\n', accuracy_score(y_test, Y_5_b_predictions))\n",
    "print('f1_Score: \\n', f1_score(y_test, Y_5_b_predictions))\n",
    "print('f_beta_Score: \\n', fbeta_score(y_test, Y_5_b_predictions, beta=10))\n",
    "print('Confusion Matrix: \\n', confusion_matrix(y_test, Y_5_b_predictions))\n"
   ]
  },
  {
   "cell_type": "markdown",
   "metadata": {},
   "source": [
    "# Exercise 15.6 (3 points)\n",
    "\n",
    "Compare and comment about the results"
   ]
  },
  {
   "cell_type": "markdown",
   "metadata": {
    "collapsed": true
   },
   "source": [
    "Cuado se revia la situación con el Accuracy el mejor ajuste al modelo se realiza con un arbol de decicón en los dos modelos de SMOTE y ADASYN. Cuando analizamos  el f1_score el menos resultado se visualiza en ADASYN mediante el modelo logistico. "
   ]
  }
 ],
 "metadata": {
  "kernelspec": {
   "display_name": "Python 3",
   "language": "python",
   "name": "python3"
  },
  "language_info": {
   "codemirror_mode": {
    "name": "ipython",
    "version": 3
   },
   "file_extension": ".py",
   "mimetype": "text/x-python",
   "name": "python",
   "nbconvert_exporter": "python",
   "pygments_lexer": "ipython3",
   "version": "3.7.0"
  }
 },
 "nbformat": 4,
 "nbformat_minor": 1
}
